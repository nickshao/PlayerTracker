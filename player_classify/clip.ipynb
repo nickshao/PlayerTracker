{
 "cells": [
  {
   "cell_type": "code",
   "execution_count": 1,
   "metadata": {},
   "outputs": [],
   "source": [
    "def clip_img(file_name):\n",
    "    img = imread(os.path.join(origin_img_dir,'{}.jpg'.format(file_name)))\n",
    "    json_data = json.load(open(os.path.join(img_dir,'{}.json'.format(file_name))))\n",
    "    for i,box in enumerate(json_data):\n",
    "        if box['label'] == 'person':\n",
    "            x0 = box['topleft']['x']\n",
    "            y0 = box['topleft']['y']\n",
    "            x1 = box['bottomright']['x']\n",
    "            y1 = box['bottomright']['y']\n",
    "            clip_img = img[y0:y1, x0:x1]\n",
    "            clip_img = imresize(clip_img, (160, 80))\n",
    "            plt.imsave(os.path.join(save_dir,'{}_clip{}.jpg'.format(file_name, i)), clip_img)"
   ]
  },
  {
   "cell_type": "code",
   "execution_count": 2,
   "metadata": {},
   "outputs": [],
   "source": [
    "import json\n",
    "import os \n",
    "import sys\n",
    "from scipy.misc import imread, imresize\n",
    "import matplotlib.pyplot as plt\n",
    "img_dir = '../yolo/jazz_thunder/out'\n",
    "origin_img_dir = '../jazz_thunder'\n",
    "save_dir = 'clip_imgs/'\n",
    "\n",
    "if not os.path.exists(save_dir):\n",
    "    os.mkdir(save_dir)\n",
    "for f in os.listdir(img_dir):\n",
    "    if '.jpg' in f:\n",
    "        file_name = f.split('.')[0]\n",
    "        clip_img(file_name)"
   ]
  },
  {
   "cell_type": "code",
   "execution_count": null,
   "metadata": {},
   "outputs": [],
   "source": []
  }
 ],
 "metadata": {
  "kernelspec": {
   "display_name": "Python 3",
   "language": "python",
   "name": "python3"
  },
  "language_info": {
   "codemirror_mode": {
    "name": "ipython",
    "version": 3
   },
   "file_extension": ".py",
   "mimetype": "text/x-python",
   "name": "python",
   "nbconvert_exporter": "python",
   "pygments_lexer": "ipython3",
   "version": "3.5.3"
  }
 },
 "nbformat": 4,
 "nbformat_minor": 2
}
