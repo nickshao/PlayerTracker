{
 "cells": [
  {
   "cell_type": "code",
   "execution_count": 1,
   "metadata": {},
   "outputs": [],
   "source": [
    "import matplotlib\n",
    "matplotlib.use('Agg') # Must be before importing matplotlib.pyplot or pylab!\n",
    "import matplotlib.pyplot as plt\n",
    "from matplotlib.patches import Circle, Rectangle, Arc\n",
    "import pandas as pd\n",
    "from Constant import Constant"
   ]
  },
  {
   "cell_type": "code",
   "execution_count": 2,
   "metadata": {},
   "outputs": [
    {
     "name": "stderr",
     "output_type": "stream",
     "text": [
      "/home/tyyen/.local/lib/python3.6/site-packages/matplotlib/cbook/deprecation.py:106: MatplotlibDeprecationWarning: Adding an axes using the same arguments as a previous axes currently reuses the earlier instance.  In a future version, a new instance will always be created and returned.  Meanwhile, this warning can be suppressed, and the future behavior ensured, by passing a unique label to each axes instance.\n",
      "  warnings.warn(message, mplDeprecation, stacklevel=1)\n"
     ]
    }
   ],
   "source": [
    "for i in range(4,6):\n",
    "    data = pd.read_json('output{0:03d}.json'.format(i))\n",
    "    ax = plt.axes(xlim=(Constant.X_MIN,\n",
    "                            Constant.X_MAX),\n",
    "                      ylim=(Constant.Y_MIN,\n",
    "                            Constant.Y_MAX))\n",
    "    ax.axis('off')\n",
    "    ax.grid(False)  # Remove grid\n",
    "    player_circles = [plt.Circle((0, 0), Constant.PLAYER_CIRCLE_SIZE, color=\"#CE1141\")\n",
    "                          for player in data['bottomright']]\n",
    "    \n",
    "    for (j, circle) in enumerate(player_circles):\n",
    "        circle.center = data['bottomright'][j]['x']/20, data['bottomright'][j]['y']/20\n",
    "        ax.add_patch(circle)\n",
    "        \n",
    "    court = plt.imread(\"court.png\")\n",
    "    plt.imshow(court, zorder=0, extent=[Constant.X_MIN, Constant.X_MAX - Constant.DIFF,\n",
    "                                                Constant.Y_MAX, Constant.Y_MIN])\n",
    "    plt.show()\n",
    "    plt.savefig('myfig_{0:03d}.jpg'.format(i))"
   ]
  },
  {
   "cell_type": "code",
   "execution_count": null,
   "metadata": {},
   "outputs": [],
   "source": []
  }
 ],
 "metadata": {
  "kernelspec": {
   "display_name": "Python 3",
   "language": "python",
   "name": "python3"
  },
  "language_info": {
   "codemirror_mode": {
    "name": "ipython",
    "version": 3
   },
   "file_extension": ".py",
   "mimetype": "text/x-python",
   "name": "python",
   "nbconvert_exporter": "python",
   "pygments_lexer": "ipython3",
   "version": "3.6.3"
  }
 },
 "nbformat": 4,
 "nbformat_minor": 2
}
